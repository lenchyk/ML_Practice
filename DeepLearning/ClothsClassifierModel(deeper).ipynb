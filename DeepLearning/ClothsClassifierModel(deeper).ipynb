{
 "cells": [
  {
   "cell_type": "code",
   "execution_count": 2,
   "metadata": {},
   "outputs": [
    {
     "name": "stderr",
     "output_type": "stream",
     "text": [
      "Using TensorFlow backend.\n"
     ]
    }
   ],
   "source": [
    "from __future__ import absolute_import, division, print_function, unicode_literals\n",
    "import numpy as np\n",
    "import tensorflow as tf\n",
    "from tensorflow import keras as ks\n",
    "from keras.models import Sequential\n",
    "from keras.layers import Flatten, Dense"
   ]
  },
  {
   "cell_type": "code",
   "execution_count": 3,
   "metadata": {},
   "outputs": [],
   "source": [
    "(X_train, Y_train), (X_test, Y_test) = ks.datasets.fashion_mnist.load_data()"
   ]
  },
  {
   "cell_type": "code",
   "execution_count": 5,
   "metadata": {},
   "outputs": [],
   "source": [
    "#X_train = X_train.reshape(X_train.shape[0], 28, 28, 1)\n",
    "#X_test = X_test.reshape(X_test.shape[0], 28, 28, 1)"
   ]
  },
  {
   "cell_type": "code",
   "execution_count": 4,
   "metadata": {},
   "outputs": [],
   "source": [
    "X_train = X_train.astype('float32')\n",
    "X_test = X_test.astype('float32')"
   ]
  },
  {
   "cell_type": "code",
   "execution_count": 5,
   "metadata": {},
   "outputs": [],
   "source": [
    "X_train /= 255\n",
    "X_test /= 255"
   ]
  },
  {
   "cell_type": "code",
   "execution_count": 12,
   "metadata": {},
   "outputs": [],
   "source": [
    "nn_model = Sequential()\n",
    "nn_model.add(Flatten(input_shape=(28, 28), name='Input_layer'))\n",
    "nn_model.add(Dense(256, activation='relu', name='Hidden_layer_1'))\n",
    "nn_model.add(Dense(192, activation='relu', name='Hidden_layer_2'))\n",
    "nn_model.add(Dense(128, activation='relu', name='Hidden_layer_3'))\n",
    "nn_model.add(Dense(10, activation='softmax', name='Ouput_layer'))"
   ]
  },
  {
   "cell_type": "code",
   "execution_count": 13,
   "metadata": {},
   "outputs": [
    {
     "name": "stdout",
     "output_type": "stream",
     "text": [
      "Model: \"sequential_3\"\n",
      "_________________________________________________________________\n",
      "Layer (type)                 Output Shape              Param #   \n",
      "=================================================================\n",
      "Input_layer (Flatten)        (None, 784)               0         \n",
      "_________________________________________________________________\n",
      "Hidden_layer_1 (Dense)       (None, 256)               200960    \n",
      "_________________________________________________________________\n",
      "Hidden_layer_2 (Dense)       (None, 192)               49344     \n",
      "_________________________________________________________________\n",
      "Hidden_layer_3 (Dense)       (None, 128)               24704     \n",
      "_________________________________________________________________\n",
      "Ouput_layer (Dense)          (None, 10)                1290      \n",
      "=================================================================\n",
      "Total params: 276,298\n",
      "Trainable params: 276,298\n",
      "Non-trainable params: 0\n",
      "_________________________________________________________________\n"
     ]
    }
   ],
   "source": [
    "nn_model.summary()"
   ]
  },
  {
   "cell_type": "code",
   "execution_count": 15,
   "metadata": {},
   "outputs": [
    {
     "name": "stdout",
     "output_type": "stream",
     "text": [
      "Epoch 1/20\n",
      "60000/60000 [==============================] - 14s 237us/step - loss: 0.2255 - accuracy: 0.9146\n",
      "Epoch 2/20\n",
      "60000/60000 [==============================] - 15s 246us/step - loss: 0.2138 - accuracy: 0.9184\n",
      "Epoch 3/20\n",
      "60000/60000 [==============================] - 13s 220us/step - loss: 0.2057 - accuracy: 0.9206\n",
      "Epoch 4/20\n",
      "60000/60000 [==============================] - 13s 219us/step - loss: 0.2004 - accuracy: 0.9236\n",
      "Epoch 5/20\n",
      "60000/60000 [==============================] - 14s 240us/step - loss: 0.1937 - accuracy: 0.9259\n",
      "Epoch 6/20\n",
      "60000/60000 [==============================] - 14s 227us/step - loss: 0.1879 - accuracy: 0.9284\n",
      "Epoch 7/20\n",
      "60000/60000 [==============================] - 16s 260us/step - loss: 0.1845 - accuracy: 0.9290\n",
      "Epoch 8/20\n",
      "60000/60000 [==============================] - 13s 223us/step - loss: 0.1800 - accuracy: 0.9314\n",
      "Epoch 9/20\n",
      "60000/60000 [==============================] - 23s 376us/step - loss: 0.1732 - accuracy: 0.9336\n",
      "Epoch 10/20\n",
      "60000/60000 [==============================] - 15s 243us/step - loss: 0.1711 - accuracy: 0.9337\n",
      "Epoch 11/20\n",
      "60000/60000 [==============================] - 13s 219us/step - loss: 0.1670 - accuracy: 0.9358\n",
      "Epoch 12/20\n",
      "60000/60000 [==============================] - 13s 216us/step - loss: 0.1612 - accuracy: 0.9366\n",
      "Epoch 13/20\n",
      "60000/60000 [==============================] - 13s 220us/step - loss: 0.1574 - accuracy: 0.9401\n",
      "Epoch 14/20\n",
      "60000/60000 [==============================] - 11s 184us/step - loss: 0.1559 - accuracy: 0.9405\n",
      "Epoch 15/20\n",
      "60000/60000 [==============================] - 11s 179us/step - loss: 0.1520 - accuracy: 0.9412\n",
      "Epoch 16/20\n",
      "60000/60000 [==============================] - 11s 178us/step - loss: 0.1480 - accuracy: 0.9445\n",
      "Epoch 17/20\n",
      "60000/60000 [==============================] - 11s 179us/step - loss: 0.1472 - accuracy: 0.9438\n",
      "Epoch 18/20\n",
      "60000/60000 [==============================] - 11s 182us/step - loss: 0.1426 - accuracy: 0.9446\n",
      "Epoch 19/20\n",
      "60000/60000 [==============================] - 11s 179us/step - loss: 0.1369 - accuracy: 0.9473\n",
      "Epoch 20/20\n",
      "60000/60000 [==============================] - 11s 182us/step - loss: 0.1376 - accuracy: 0.9471\n"
     ]
    },
    {
     "data": {
      "text/plain": [
       "<keras.callbacks.callbacks.History at 0x13b2bb210>"
      ]
     },
     "execution_count": 15,
     "metadata": {},
     "output_type": "execute_result"
    }
   ],
   "source": [
    "nn_model.compile(optimizer='adam', loss='sparse_categorical_crossentropy', metrics=['accuracy'])\n",
    "nn_model.fit(X_train, Y_train, epochs=20)"
   ]
  },
  {
   "cell_type": "code",
   "execution_count": 16,
   "metadata": {},
   "outputs": [
    {
     "name": "stdout",
     "output_type": "stream",
     "text": [
      "10000/10000 [==============================] - 1s 61us/step\n"
     ]
    },
    {
     "data": {
      "text/plain": [
       "[0.48054631687402727, 0.887499988079071]"
      ]
     },
     "execution_count": 16,
     "metadata": {},
     "output_type": "execute_result"
    }
   ],
   "source": [
    "nn_model.evaluate(X_test, Y_test)"
   ]
  },
  {
   "cell_type": "code",
   "execution_count": null,
   "metadata": {},
   "outputs": [],
   "source": []
  }
 ],
 "metadata": {
  "kernelspec": {
   "display_name": "Python 3",
   "language": "python",
   "name": "python3"
  },
  "language_info": {
   "codemirror_mode": {
    "name": "ipython",
    "version": 3
   },
   "file_extension": ".py",
   "mimetype": "text/x-python",
   "name": "python",
   "nbconvert_exporter": "python",
   "pygments_lexer": "ipython3",
   "version": "3.7.4"
  }
 },
 "nbformat": 4,
 "nbformat_minor": 2
}
